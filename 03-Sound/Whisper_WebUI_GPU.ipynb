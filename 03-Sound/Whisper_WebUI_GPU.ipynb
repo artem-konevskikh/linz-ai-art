{
  "cells": [
    {
      "cell_type": "markdown",
      "metadata": {
        "id": "7Y78bxUrVzPF"
      },
      "source": [
        "# Whisper WebUI\n",
        "\n",
        "Based on https://huggingface.co/spaces/aadnk/faster-whisper-webui\n",
        "\n"
      ]
    },
    {
      "cell_type": "code",
      "execution_count": null,
      "metadata": {
        "id": "h85P7mbOVfby",
        "cellView": "form"
      },
      "outputs": [],
      "source": [
        "#@title Install Whisper WebUI\n",
        "!git clone https://huggingface.co/spaces/aadnk/faster-whisper-webui\n",
        "%cd /content/faster-whisper-webui/\n",
        "!git pull origin\n",
        "!pip install -r requirements.txt"
      ]
    },
    {
      "cell_type": "code",
      "execution_count": null,
      "metadata": {
        "id": "KHNLATd9d_CP",
        "cellView": "form"
      },
      "outputs": [],
      "source": [
        "#@title Mount Google Drive\n",
        "import os\n",
        "from google.colab import drive\n",
        "drive.mount('/content/drive')\n",
        "if not os.path.exists('/content/drive/MyDrive/whisper'):\n",
        "  os.mkdir('/content/drive/MyDrive/whisper')"
      ]
    },
    {
      "cell_type": "code",
      "execution_count": null,
      "metadata": {
        "id": "qaXqjHuCecAg",
        "cellView": "form"
      },
      "outputs": [],
      "source": [
        "#@title Run WebUI\n",
        "!python app.py --input_audio_max_duration -1 --share True --auto_parallel True --output_dir \"/content/drive/MyDrive/whisper\""
      ]
    }
  ],
  "metadata": {
    "accelerator": "GPU",
    "colab": {
      "provenance": []
    },
    "kernelspec": {
      "display_name": "Python 3",
      "name": "python3"
    },
    "language_info": {
      "name": "python"
    }
  },
  "nbformat": 4,
  "nbformat_minor": 0
}